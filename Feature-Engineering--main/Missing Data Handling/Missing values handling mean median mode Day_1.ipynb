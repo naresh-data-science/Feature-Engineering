{
 "cells": [
  {
   "cell_type": "markdown",
   "id": "0551eb50",
   "metadata": {},
   "source": [
    "### Mean Median Mode "
   ]
  },
  {
   "cell_type": "code",
   "execution_count": 1,
   "id": "2e66fb4d",
   "metadata": {},
   "outputs": [],
   "source": [
    "import numpy as np\n",
    "import pandas as pd \n",
    "import matplotlib.pyplot as plt \n",
    "import seaborn as sns "
   ]
  },
  {
   "cell_type": "code",
   "execution_count": 4,
   "id": "bcc3eaff",
   "metadata": {},
   "outputs": [],
   "source": [
    "df = pd.read_csv(\"E:\\\\Feature engineering\\\\Datasets\\\\titanic.csv\" , usecols = ['Age','Fare','Survived'])"
   ]
  },
  {
   "cell_type": "code",
   "execution_count": 5,
   "id": "c9d8db72",
   "metadata": {},
   "outputs": [
    {
     "data": {
      "text/html": [
       "<div>\n",
       "<style scoped>\n",
       "    .dataframe tbody tr th:only-of-type {\n",
       "        vertical-align: middle;\n",
       "    }\n",
       "\n",
       "    .dataframe tbody tr th {\n",
       "        vertical-align: top;\n",
       "    }\n",
       "\n",
       "    .dataframe thead th {\n",
       "        text-align: right;\n",
       "    }\n",
       "</style>\n",
       "<table border=\"1\" class=\"dataframe\">\n",
       "  <thead>\n",
       "    <tr style=\"text-align: right;\">\n",
       "      <th></th>\n",
       "      <th>Survived</th>\n",
       "      <th>Age</th>\n",
       "      <th>Fare</th>\n",
       "    </tr>\n",
       "  </thead>\n",
       "  <tbody>\n",
       "    <tr>\n",
       "      <th>0</th>\n",
       "      <td>0</td>\n",
       "      <td>34.5</td>\n",
       "      <td>7.8292</td>\n",
       "    </tr>\n",
       "    <tr>\n",
       "      <th>1</th>\n",
       "      <td>1</td>\n",
       "      <td>47.0</td>\n",
       "      <td>7.0000</td>\n",
       "    </tr>\n",
       "    <tr>\n",
       "      <th>2</th>\n",
       "      <td>0</td>\n",
       "      <td>62.0</td>\n",
       "      <td>9.6875</td>\n",
       "    </tr>\n",
       "    <tr>\n",
       "      <th>3</th>\n",
       "      <td>0</td>\n",
       "      <td>27.0</td>\n",
       "      <td>8.6625</td>\n",
       "    </tr>\n",
       "    <tr>\n",
       "      <th>4</th>\n",
       "      <td>1</td>\n",
       "      <td>22.0</td>\n",
       "      <td>12.2875</td>\n",
       "    </tr>\n",
       "  </tbody>\n",
       "</table>\n",
       "</div>"
      ],
      "text/plain": [
       "   Survived   Age     Fare\n",
       "0         0  34.5   7.8292\n",
       "1         1  47.0   7.0000\n",
       "2         0  62.0   9.6875\n",
       "3         0  27.0   8.6625\n",
       "4         1  22.0  12.2875"
      ]
     },
     "execution_count": 5,
     "metadata": {},
     "output_type": "execute_result"
    }
   ],
   "source": [
    "df.head()"
   ]
  },
  {
   "cell_type": "code",
   "execution_count": 6,
   "id": "f27a85f1",
   "metadata": {},
   "outputs": [
    {
     "data": {
      "text/plain": [
       "Survived     0\n",
       "Age         86\n",
       "Fare         1\n",
       "dtype: int64"
      ]
     },
     "execution_count": 6,
     "metadata": {},
     "output_type": "execute_result"
    }
   ],
   "source": [
    "df.isnull().sum()"
   ]
  },
  {
   "cell_type": "code",
   "execution_count": 7,
   "id": "3b63d425",
   "metadata": {},
   "outputs": [
    {
     "data": {
      "text/plain": [
       "Survived    0.000000\n",
       "Age         0.205742\n",
       "Fare        0.002392\n",
       "dtype: float64"
      ]
     },
     "execution_count": 7,
     "metadata": {},
     "output_type": "execute_result"
    }
   ],
   "source": [
    "df.isnull().mean()"
   ]
  },
  {
   "cell_type": "code",
   "execution_count": 41,
   "id": "d098b345",
   "metadata": {},
   "outputs": [
    {
     "data": {
      "text/plain": [
       "False"
      ]
     },
     "execution_count": 41,
     "metadata": {},
     "output_type": "execute_result"
    }
   ],
   "source": [
    "0.002392 > 0.05"
   ]
  },
  {
   "cell_type": "markdown",
   "id": "816cb0ec",
   "metadata": {},
   "source": [
    "### Age "
   ]
  },
  {
   "cell_type": "code",
   "execution_count": 8,
   "id": "66f6b1ec",
   "metadata": {},
   "outputs": [],
   "source": [
    "mean_age = df['Age'].mean()\n"
   ]
  },
  {
   "cell_type": "code",
   "execution_count": 9,
   "id": "c07e42e0",
   "metadata": {},
   "outputs": [],
   "source": [
    "median_age = df['Age'].median()"
   ]
  },
  {
   "cell_type": "code",
   "execution_count": 10,
   "id": "8413750c",
   "metadata": {},
   "outputs": [],
   "source": [
    "mode_age = df['Age'].mode()"
   ]
  },
  {
   "cell_type": "code",
   "execution_count": 13,
   "id": "4a24236f",
   "metadata": {},
   "outputs": [],
   "source": [
    "def age_mean(df,var , mean_age):\n",
    "    df[var+\" mean\"] = df[var].fillna(mean_age)\n",
    "    \n",
    "    \n",
    "    \n",
    "    \n",
    "    \n",
    "    "
   ]
  },
  {
   "cell_type": "code",
   "execution_count": 14,
   "id": "03c0251e",
   "metadata": {},
   "outputs": [],
   "source": [
    "age_mean(df,'Age',mean_age)"
   ]
  },
  {
   "cell_type": "code",
   "execution_count": 17,
   "id": "47263892",
   "metadata": {},
   "outputs": [],
   "source": [
    "# median \n",
    "\n",
    "def age_median(df,var , median_age):\n",
    "    return df[var].fillna(median_age)\n",
    "    \n",
    "    \n",
    "    "
   ]
  },
  {
   "cell_type": "code",
   "execution_count": 18,
   "id": "42078fed",
   "metadata": {},
   "outputs": [],
   "source": [
    "df.loc[: , 'Age_median'] = age_median(df,'Age',median_age)"
   ]
  },
  {
   "cell_type": "code",
   "execution_count": 19,
   "id": "2659bbcb",
   "metadata": {},
   "outputs": [
    {
     "data": {
      "text/html": [
       "<div>\n",
       "<style scoped>\n",
       "    .dataframe tbody tr th:only-of-type {\n",
       "        vertical-align: middle;\n",
       "    }\n",
       "\n",
       "    .dataframe tbody tr th {\n",
       "        vertical-align: top;\n",
       "    }\n",
       "\n",
       "    .dataframe thead th {\n",
       "        text-align: right;\n",
       "    }\n",
       "</style>\n",
       "<table border=\"1\" class=\"dataframe\">\n",
       "  <thead>\n",
       "    <tr style=\"text-align: right;\">\n",
       "      <th></th>\n",
       "      <th>Survived</th>\n",
       "      <th>Age</th>\n",
       "      <th>Fare</th>\n",
       "      <th>Age mean</th>\n",
       "      <th>Age_median</th>\n",
       "    </tr>\n",
       "  </thead>\n",
       "  <tbody>\n",
       "    <tr>\n",
       "      <th>0</th>\n",
       "      <td>0</td>\n",
       "      <td>34.5</td>\n",
       "      <td>7.8292</td>\n",
       "      <td>34.5</td>\n",
       "      <td>34.5</td>\n",
       "    </tr>\n",
       "    <tr>\n",
       "      <th>1</th>\n",
       "      <td>1</td>\n",
       "      <td>47.0</td>\n",
       "      <td>7.0000</td>\n",
       "      <td>47.0</td>\n",
       "      <td>47.0</td>\n",
       "    </tr>\n",
       "    <tr>\n",
       "      <th>2</th>\n",
       "      <td>0</td>\n",
       "      <td>62.0</td>\n",
       "      <td>9.6875</td>\n",
       "      <td>62.0</td>\n",
       "      <td>62.0</td>\n",
       "    </tr>\n",
       "    <tr>\n",
       "      <th>3</th>\n",
       "      <td>0</td>\n",
       "      <td>27.0</td>\n",
       "      <td>8.6625</td>\n",
       "      <td>27.0</td>\n",
       "      <td>27.0</td>\n",
       "    </tr>\n",
       "    <tr>\n",
       "      <th>4</th>\n",
       "      <td>1</td>\n",
       "      <td>22.0</td>\n",
       "      <td>12.2875</td>\n",
       "      <td>22.0</td>\n",
       "      <td>22.0</td>\n",
       "    </tr>\n",
       "  </tbody>\n",
       "</table>\n",
       "</div>"
      ],
      "text/plain": [
       "   Survived   Age     Fare  Age mean  Age_median\n",
       "0         0  34.5   7.8292      34.5        34.5\n",
       "1         1  47.0   7.0000      47.0        47.0\n",
       "2         0  62.0   9.6875      62.0        62.0\n",
       "3         0  27.0   8.6625      27.0        27.0\n",
       "4         1  22.0  12.2875      22.0        22.0"
      ]
     },
     "execution_count": 19,
     "metadata": {},
     "output_type": "execute_result"
    }
   ],
   "source": [
    "df.head()"
   ]
  },
  {
   "cell_type": "code",
   "execution_count": 26,
   "id": "136cbc1e",
   "metadata": {},
   "outputs": [
    {
     "data": {
      "text/plain": [
       "21.0"
      ]
     },
     "execution_count": 26,
     "metadata": {},
     "output_type": "execute_result"
    }
   ],
   "source": [
    "mode_age[0]"
   ]
  },
  {
   "cell_type": "code",
   "execution_count": 27,
   "id": "3d70b8b3",
   "metadata": {},
   "outputs": [],
   "source": [
    "## mode\n",
    "\n",
    "def age_mode(df,var , mode_age):\n",
    "    return df[var].fillna(mode_age[0])\n",
    "    "
   ]
  },
  {
   "cell_type": "code",
   "execution_count": 28,
   "id": "4b22161b",
   "metadata": {},
   "outputs": [],
   "source": [
    "df.loc[: , 'Age_mode'] = age_mode(df,'Age',mode_age)"
   ]
  },
  {
   "cell_type": "code",
   "execution_count": 29,
   "id": "026fb956",
   "metadata": {},
   "outputs": [
    {
     "data": {
      "text/plain": [
       "Survived       0\n",
       "Age           86\n",
       "Fare           1\n",
       "Age mean       0\n",
       "Age_median     0\n",
       "Age_mode       0\n",
       "dtype: int64"
      ]
     },
     "execution_count": 29,
     "metadata": {},
     "output_type": "execute_result"
    }
   ],
   "source": [
    "df.isnull().sum()"
   ]
  },
  {
   "cell_type": "code",
   "execution_count": 31,
   "id": "bd0976c8",
   "metadata": {},
   "outputs": [
    {
     "data": {
      "image/png": "[encoded data removed]",
      "text/plain": [
       "<Figure size 432x288 with 1 Axes>"
      ]
     },
     "metadata": {
      "needs_background": "light"
     },
     "output_type": "display_data"
    }
   ],
   "source": [
    "fig = plt.figure()\n",
    "\n",
    "ax = fig.add_subplot(1,1,1)\n",
    "\n",
    "df['Age'].hist(bins = 50 ,ax = ax, color = 'r' , density = True , legend = 'Age')   # 86 null values \n",
    "df['Age mean'].hist(bins = 50 ,ax=ax, color = 'g' , density = True , legend = 'Age_mean')\n",
    "df['Age_median'].hist(bins = 50 ,ax=ax, color = 'b' , density = True , legend = 'Age_median')\n",
    "df['Age_mode'].hist(bins = 50 , ax=ax,color = 'y' , density = True , legend = 'Age_mode')\n",
    "plt.legend(loc=0)\n",
    "plt.show()"
   ]
  },
  {
   "cell_type": "code",
   "execution_count": 34,
   "id": "5db60da1",
   "metadata": {},
   "outputs": [
    {
     "data": {
      "image/png": "[encoded data removed]",
      "text/plain": [
       "<Figure size 432x288 with 1 Axes>"
      ]
     },
     "metadata": {
      "needs_background": "light"
     },
     "output_type": "display_data"
    }
   ],
   "source": [
    "fig = plt.figure()\n",
    "\n",
    "ax = fig.add_subplot(1,1,1)\n",
    "\n",
    "df['Age'].plot(kind = 'kde',ax = ax, color = 'r'  , legend = 'Age')\n",
    "df['Age mean'].plot(kind = 'kde',ax=ax, color = 'g'  , legend = 'Age_mean')\n",
    "df['Age_median'].plot(kind = 'kde' ,ax=ax, color = 'b' , legend = 'Age_median')\n",
    "df['Age_mode'].plot(kind = 'kde', ax=ax,color = 'y' , legend = 'Age_mode')\n",
    "plt.legend(loc=0)\n",
    "plt.show()"
   ]
  },
  {
   "cell_type": "code",
   "execution_count": 35,
   "id": "f05fb7e9",
   "metadata": {},
   "outputs": [
    {
     "data": {
      "text/plain": [
       "<AxesSubplot:>"
      ]
     },
     "execution_count": 35,
     "metadata": {},
     "output_type": "execute_result"
    },
    {
     "data": {
      "image/png": "[encoded data removed]",
      "text/plain": [
       "<Figure size 432x288 with 1 Axes>"
      ]
     },
     "metadata": {
      "needs_background": "light"
     },
     "output_type": "display_data"
    }
   ],
   "source": [
    "## checking outliers \n",
    "\n",
    "df[['Age','Age mean','Age_median','Age_mode']].boxplot()"
   ]
  },
  {
   "cell_type": "code",
   "execution_count": 37,
   "id": "4e211afb",
   "metadata": {},
   "outputs": [
    {
     "name": "stdout",
     "output_type": "stream",
     "text": [
      "variance for age = 201.10669538455937 \n",
      "variance for age mean = 159.63145365057315 \n",
      "variance for age median = 161.38576830860688 \n",
      "variance for age mode = 173.71546436037778 \n"
     ]
    }
   ],
   "source": [
    "print(\"variance for age = {} \".format(df['Age'].var()))\n",
    "print(\"variance for age mean = {} \".format(df['Age mean'].var()))\n",
    "print(\"variance for age median = {} \".format(df['Age_median'].var()))\n",
    "print(\"variance for age mode = {} \".format(df['Age_mode'].var()))"
   ]
  },
  {
   "cell_type": "code",
   "execution_count": 38,
   "id": "c8f1ff23",
   "metadata": {},
   "outputs": [
    {
     "data": {
      "text/html": [
       "<div>\n",
       "<style scoped>\n",
       "    .dataframe tbody tr th:only-of-type {\n",
       "        vertical-align: middle;\n",
       "    }\n",
       "\n",
       "    .dataframe tbody tr th {\n",
       "        vertical-align: top;\n",
       "    }\n",
       "\n",
       "    .dataframe thead th {\n",
       "        text-align: right;\n",
       "    }\n",
       "</style>\n",
       "<table border=\"1\" class=\"dataframe\">\n",
       "  <thead>\n",
       "    <tr style=\"text-align: right;\">\n",
       "      <th></th>\n",
       "      <th>Age</th>\n",
       "      <th>Age mean</th>\n",
       "      <th>Age_median</th>\n",
       "      <th>Age_mode</th>\n",
       "      <th>Fare</th>\n",
       "      <th>Survived</th>\n",
       "    </tr>\n",
       "  </thead>\n",
       "  <tbody>\n",
       "    <tr>\n",
       "      <th>Age</th>\n",
       "      <td>201.106695</td>\n",
       "      <td>201.106695</td>\n",
       "      <td>201.106695</td>\n",
       "      <td>201.106695</td>\n",
       "      <td>291.838610</td>\n",
       "      <td>-0.000088</td>\n",
       "    </tr>\n",
       "    <tr>\n",
       "      <th>Age mean</th>\n",
       "      <td>201.106695</td>\n",
       "      <td>159.631454</td>\n",
       "      <td>159.631454</td>\n",
       "      <td>159.631454</td>\n",
       "      <td>231.117492</td>\n",
       "      <td>-0.000069</td>\n",
       "    </tr>\n",
       "    <tr>\n",
       "      <th>Age_median</th>\n",
       "      <td>201.106695</td>\n",
       "      <td>159.631454</td>\n",
       "      <td>161.385768</td>\n",
       "      <td>164.602146</td>\n",
       "      <td>245.061177</td>\n",
       "      <td>0.049158</td>\n",
       "    </tr>\n",
       "    <tr>\n",
       "      <th>Age_mode</th>\n",
       "      <td>201.106695</td>\n",
       "      <td>159.631454</td>\n",
       "      <td>164.602146</td>\n",
       "      <td>173.715464</td>\n",
       "      <td>270.625670</td>\n",
       "      <td>0.139414</td>\n",
       "    </tr>\n",
       "    <tr>\n",
       "      <th>Fare</th>\n",
       "      <td>291.838610</td>\n",
       "      <td>231.117492</td>\n",
       "      <td>245.061177</td>\n",
       "      <td>270.625670</td>\n",
       "      <td>3125.657074</td>\n",
       "      <td>5.159417</td>\n",
       "    </tr>\n",
       "    <tr>\n",
       "      <th>Survived</th>\n",
       "      <td>-0.000088</td>\n",
       "      <td>-0.000069</td>\n",
       "      <td>0.049158</td>\n",
       "      <td>0.139414</td>\n",
       "      <td>5.159417</td>\n",
       "      <td>0.231960</td>\n",
       "    </tr>\n",
       "  </tbody>\n",
       "</table>\n",
       "</div>"
      ],
      "text/plain": [
       "                   Age    Age mean  Age_median    Age_mode         Fare  \\\n",
       "Age         201.106695  201.106695  201.106695  201.106695   291.838610   \n",
       "Age mean    201.106695  159.631454  159.631454  159.631454   231.117492   \n",
       "Age_median  201.106695  159.631454  161.385768  164.602146   245.061177   \n",
       "Age_mode    201.106695  159.631454  164.602146  173.715464   270.625670   \n",
       "Fare        291.838610  231.117492  245.061177  270.625670  3125.657074   \n",
       "Survived     -0.000088   -0.000069    0.049158    0.139414     5.159417   \n",
       "\n",
       "            Survived  \n",
       "Age        -0.000088  \n",
       "Age mean   -0.000069  \n",
       "Age_median  0.049158  \n",
       "Age_mode    0.139414  \n",
       "Fare        5.159417  \n",
       "Survived    0.231960  "
      ]
     },
     "execution_count": 38,
     "metadata": {},
     "output_type": "execute_result"
    }
   ],
   "source": [
    "df[['Age','Age mean','Age_median','Age_mode','Fare','Survived']].cov()"
   ]
  },
  {
   "cell_type": "code",
   "execution_count": 42,
   "id": "100e97f1",
   "metadata": {},
   "outputs": [],
   "source": [
    "## fOLLOW SAME PROCESS for fair column too"
   ]
  },
  {
   "cell_type": "markdown",
   "id": "f39c219d",
   "metadata": {},
   "source": [
    "### Mean Median Mode using simple imputer techniques "
   ]
  },
  {
   "cell_type": "code",
   "execution_count": 43,
   "id": "1c8f7612",
   "metadata": {},
   "outputs": [
    {
     "data": {
      "text/html": [
       "<div>\n",
       "<style scoped>\n",
       "    .dataframe tbody tr th:only-of-type {\n",
       "        vertical-align: middle;\n",
       "    }\n",
       "\n",
       "    .dataframe tbody tr th {\n",
       "        vertical-align: top;\n",
       "    }\n",
       "\n",
       "    .dataframe thead th {\n",
       "        text-align: right;\n",
       "    }\n",
       "</style>\n",
       "<table border=\"1\" class=\"dataframe\">\n",
       "  <thead>\n",
       "    <tr style=\"text-align: right;\">\n",
       "      <th></th>\n",
       "      <th>Survived</th>\n",
       "      <th>Age</th>\n",
       "      <th>Fare</th>\n",
       "      <th>Age mean</th>\n",
       "      <th>Age_median</th>\n",
       "      <th>Age_mode</th>\n",
       "    </tr>\n",
       "  </thead>\n",
       "  <tbody>\n",
       "    <tr>\n",
       "      <th>0</th>\n",
       "      <td>0</td>\n",
       "      <td>34.5</td>\n",
       "      <td>7.8292</td>\n",
       "      <td>34.5</td>\n",
       "      <td>34.5</td>\n",
       "      <td>34.5</td>\n",
       "    </tr>\n",
       "    <tr>\n",
       "      <th>1</th>\n",
       "      <td>1</td>\n",
       "      <td>47.0</td>\n",
       "      <td>7.0000</td>\n",
       "      <td>47.0</td>\n",
       "      <td>47.0</td>\n",
       "      <td>47.0</td>\n",
       "    </tr>\n",
       "    <tr>\n",
       "      <th>2</th>\n",
       "      <td>0</td>\n",
       "      <td>62.0</td>\n",
       "      <td>9.6875</td>\n",
       "      <td>62.0</td>\n",
       "      <td>62.0</td>\n",
       "      <td>62.0</td>\n",
       "    </tr>\n",
       "    <tr>\n",
       "      <th>3</th>\n",
       "      <td>0</td>\n",
       "      <td>27.0</td>\n",
       "      <td>8.6625</td>\n",
       "      <td>27.0</td>\n",
       "      <td>27.0</td>\n",
       "      <td>27.0</td>\n",
       "    </tr>\n",
       "    <tr>\n",
       "      <th>4</th>\n",
       "      <td>1</td>\n",
       "      <td>22.0</td>\n",
       "      <td>12.2875</td>\n",
       "      <td>22.0</td>\n",
       "      <td>22.0</td>\n",
       "      <td>22.0</td>\n",
       "    </tr>\n",
       "  </tbody>\n",
       "</table>\n",
       "</div>"
      ],
      "text/plain": [
       "   Survived   Age     Fare  Age mean  Age_median  Age_mode\n",
       "0         0  34.5   7.8292      34.5        34.5      34.5\n",
       "1         1  47.0   7.0000      47.0        47.0      47.0\n",
       "2         0  62.0   9.6875      62.0        62.0      62.0\n",
       "3         0  27.0   8.6625      27.0        27.0      27.0\n",
       "4         1  22.0  12.2875      22.0        22.0      22.0"
      ]
     },
     "execution_count": 43,
     "metadata": {},
     "output_type": "execute_result"
    }
   ],
   "source": [
    "df.head()"
   ]
  },
  {
   "cell_type": "code",
   "execution_count": 44,
   "id": "2203dc3a",
   "metadata": {},
   "outputs": [],
   "source": [
    "data = pd.read_csv(\"E:\\\\Feature engineering\\\\Datasets\\\\titanic.csv\" , usecols = ['Age','Fare','Survived'])"
   ]
  },
  {
   "cell_type": "code",
   "execution_count": 45,
   "id": "2e6625cd",
   "metadata": {},
   "outputs": [
    {
     "data": {
      "text/html": [
       "<div>\n",
       "<style scoped>\n",
       "    .dataframe tbody tr th:only-of-type {\n",
       "        vertical-align: middle;\n",
       "    }\n",
       "\n",
       "    .dataframe tbody tr th {\n",
       "        vertical-align: top;\n",
       "    }\n",
       "\n",
       "    .dataframe thead th {\n",
       "        text-align: right;\n",
       "    }\n",
       "</style>\n",
       "<table border=\"1\" class=\"dataframe\">\n",
       "  <thead>\n",
       "    <tr style=\"text-align: right;\">\n",
       "      <th></th>\n",
       "      <th>Survived</th>\n",
       "      <th>Age</th>\n",
       "      <th>Fare</th>\n",
       "    </tr>\n",
       "  </thead>\n",
       "  <tbody>\n",
       "    <tr>\n",
       "      <th>0</th>\n",
       "      <td>0</td>\n",
       "      <td>34.5</td>\n",
       "      <td>7.8292</td>\n",
       "    </tr>\n",
       "    <tr>\n",
       "      <th>1</th>\n",
       "      <td>1</td>\n",
       "      <td>47.0</td>\n",
       "      <td>7.0000</td>\n",
       "    </tr>\n",
       "    <tr>\n",
       "      <th>2</th>\n",
       "      <td>0</td>\n",
       "      <td>62.0</td>\n",
       "      <td>9.6875</td>\n",
       "    </tr>\n",
       "    <tr>\n",
       "      <th>3</th>\n",
       "      <td>0</td>\n",
       "      <td>27.0</td>\n",
       "      <td>8.6625</td>\n",
       "    </tr>\n",
       "    <tr>\n",
       "      <th>4</th>\n",
       "      <td>1</td>\n",
       "      <td>22.0</td>\n",
       "      <td>12.2875</td>\n",
       "    </tr>\n",
       "  </tbody>\n",
       "</table>\n",
       "</div>"
      ],
      "text/plain": [
       "   Survived   Age     Fare\n",
       "0         0  34.5   7.8292\n",
       "1         1  47.0   7.0000\n",
       "2         0  62.0   9.6875\n",
       "3         0  27.0   8.6625\n",
       "4         1  22.0  12.2875"
      ]
     },
     "execution_count": 45,
     "metadata": {},
     "output_type": "execute_result"
    }
   ],
   "source": [
    "data.head()"
   ]
  },
  {
   "cell_type": "code",
   "execution_count": 1,
   "id": "f1e914a7",
   "metadata": {},
   "outputs": [],
   "source": [
    "from sklearn.impute import SimpleImputer"
   ]
  },
  {
   "cell_type": "code",
   "execution_count": 47,
   "id": "5c3e1955",
   "metadata": {},
   "outputs": [],
   "source": [
    "mean_imputer = SimpleImputer(strategy='mean')"
   ]
  },
  {
   "cell_type": "code",
   "execution_count": 48,
   "id": "da2e376e",
   "metadata": {},
   "outputs": [
    {
     "data": {
      "text/plain": [
       "array([[ 0.        , 34.5       ,  7.8292    ],\n",
       "       [ 1.        , 47.        ,  7.        ],\n",
       "       [ 0.        , 62.        ,  9.6875    ],\n",
       "       ...,\n",
       "       [ 0.        , 38.5       ,  7.25      ],\n",
       "       [ 0.        , 30.27259036,  8.05      ],\n",
       "       [ 0.        , 30.27259036, 22.3583    ]])"
      ]
     },
     "execution_count": 48,
     "metadata": {},
     "output_type": "execute_result"
    }
   ],
   "source": [
    "mean_imputer.fit_transform(data)"
   ]
  },
  {
   "cell_type": "code",
   "execution_count": 49,
   "id": "3b7be037",
   "metadata": {},
   "outputs": [
    {
     "data": {
      "text/plain": [
       "array([ 0.36363636, 30.27259036, 35.62718849])"
      ]
     },
     "execution_count": 49,
     "metadata": {},
     "output_type": "execute_result"
    }
   ],
   "source": [
    "mean_imputer.statistics_"
   ]
  },
  {
   "cell_type": "code",
   "execution_count": 50,
   "id": "1d2a28bb",
   "metadata": {},
   "outputs": [
    {
     "data": {
      "text/plain": [
       "Survived     0\n",
       "Age         86\n",
       "Fare         1\n",
       "dtype: int64"
      ]
     },
     "execution_count": 50,
     "metadata": {},
     "output_type": "execute_result"
    }
   ],
   "source": [
    "data.isnull().sum()"
   ]
  },
  {
   "cell_type": "code",
   "execution_count": 52,
   "id": "9968b8b0",
   "metadata": {},
   "outputs": [],
   "source": [
    "mean_imputer_handling = SimpleImputer(missing_values = np.nan , strategy='mean')\n"
   ]
  },
  {
   "cell_type": "code",
   "execution_count": 62,
   "id": "8aa8ab43",
   "metadata": {},
   "outputs": [],
   "source": [
    "data.iloc[: , 1] = mean_imputer_handling.fit_transform(data['Age'].values.reshape(-1,1))"
   ]
  },
  {
   "cell_type": "code",
   "execution_count": 63,
   "id": "282cbba2",
   "metadata": {},
   "outputs": [
    {
     "data": {
      "text/plain": [
       "Survived    0\n",
       "Age         0\n",
       "Fare        1\n",
       "dtype: int64"
      ]
     },
     "execution_count": 63,
     "metadata": {},
     "output_type": "execute_result"
    }
   ],
   "source": [
    "data.isnull().sum()"
   ]
  },
  {
   "cell_type": "code",
   "execution_count": 66,
   "id": "d774bbc6",
   "metadata": {},
   "outputs": [],
   "source": [
    "data.iloc[: , 1:] = mean_imputer_handling.fit_transform(data.iloc[: , 1:])"
   ]
  },
  {
   "cell_type": "code",
   "execution_count": 67,
   "id": "fe9bf6ed",
   "metadata": {},
   "outputs": [
    {
     "data": {
      "text/plain": [
       "Survived    0\n",
       "Age         0\n",
       "Fare        0\n",
       "dtype: int64"
      ]
     },
     "execution_count": 67,
     "metadata": {},
     "output_type": "execute_result"
    }
   ],
   "source": [
    "data.isnull().sum()"
   ]
  },
  {
   "cell_type": "markdown",
   "id": "68837830",
   "metadata": {},
   "source": [
    "### Median"
   ]
  },
  {
   "cell_type": "code",
   "execution_count": 204,
   "id": "b7d54eec",
   "metadata": {},
   "outputs": [],
   "source": [
    "data = pd.read_csv(\"E:\\\\Feature engineering\\\\Datasets\\\\titanic.csv\" , usecols = ['Age','Fare','Survived'])"
   ]
  },
  {
   "cell_type": "code",
   "execution_count": 205,
   "id": "8fc4025d",
   "metadata": {},
   "outputs": [
    {
     "data": {
      "text/plain": [
       "Survived     0\n",
       "Age         86\n",
       "Fare         1\n",
       "dtype: int64"
      ]
     },
     "execution_count": 205,
     "metadata": {},
     "output_type": "execute_result"
    }
   ],
   "source": [
    "data.isnull().sum()"
   ]
  },
  {
   "cell_type": "code",
   "execution_count": 206,
   "id": "58e7cf34",
   "metadata": {},
   "outputs": [],
   "source": [
    "median_imputer = SimpleImputer(strategy='median')"
   ]
  },
  {
   "cell_type": "code",
   "execution_count": 207,
   "id": "031df82e",
   "metadata": {},
   "outputs": [
    {
     "data": {
      "text/plain": [
       "SimpleImputer(strategy='median')"
      ]
     },
     "execution_count": 207,
     "metadata": {},
     "output_type": "execute_result"
    }
   ],
   "source": [
    "median_imputer.fit(data)"
   ]
  },
  {
   "cell_type": "code",
   "execution_count": 208,
   "id": "6609bb74",
   "metadata": {},
   "outputs": [
    {
     "data": {
      "text/plain": [
       "array([ 0.    , 27.    , 14.4542])"
      ]
     },
     "execution_count": 208,
     "metadata": {},
     "output_type": "execute_result"
    }
   ],
   "source": [
    "median_imputer.statistics_"
   ]
  },
  {
   "cell_type": "code",
   "execution_count": 209,
   "id": "76617500",
   "metadata": {},
   "outputs": [
    {
     "data": {
      "text/plain": [
       "27.0"
      ]
     },
     "execution_count": 209,
     "metadata": {},
     "output_type": "execute_result"
    }
   ],
   "source": [
    "data['Age'].median()"
   ]
  },
  {
   "cell_type": "code",
   "execution_count": 210,
   "id": "3c69ec97",
   "metadata": {},
   "outputs": [
    {
     "data": {
      "text/plain": [
       "Survived     0\n",
       "Age         86\n",
       "Fare         1\n",
       "dtype: int64"
      ]
     },
     "execution_count": 210,
     "metadata": {},
     "output_type": "execute_result"
    }
   ],
   "source": [
    "data.isnull().sum()"
   ]
  },
  {
   "cell_type": "code",
   "execution_count": 211,
   "id": "094098cc",
   "metadata": {},
   "outputs": [
    {
     "data": {
      "text/plain": [
       "array([[ 0.    , 34.5   ,  7.8292],\n",
       "       [ 1.    , 47.    ,  7.    ],\n",
       "       [ 0.    , 62.    ,  9.6875],\n",
       "       ...,\n",
       "       [ 0.    , 38.5   ,  7.25  ],\n",
       "       [ 0.    , 27.    ,  8.05  ],\n",
       "       [ 0.    , 27.    , 22.3583]])"
      ]
     },
     "execution_count": 211,
     "metadata": {},
     "output_type": "execute_result"
    }
   ],
   "source": [
    "median_imputer.transform(data)"
   ]
  },
  {
   "cell_type": "code",
   "execution_count": 212,
   "id": "70d3ac49",
   "metadata": {},
   "outputs": [
    {
     "data": {
      "text/plain": [
       "Survived     0\n",
       "Age         86\n",
       "Fare         1\n",
       "dtype: int64"
      ]
     },
     "execution_count": 212,
     "metadata": {},
     "output_type": "execute_result"
    }
   ],
   "source": [
    "data.isnull().sum()"
   ]
  },
  {
   "cell_type": "code",
   "execution_count": 177,
   "id": "6e1fd7e5",
   "metadata": {},
   "outputs": [],
   "source": [
    "median_imputer = SimpleImputer(missing_values=np.nan , strategy='median')"
   ]
  },
  {
   "cell_type": "code",
   "execution_count": 178,
   "id": "f76b7148",
   "metadata": {},
   "outputs": [],
   "source": [
    "data.iloc[: , 1:] = median_imputer.fit_transform(data.iloc[: , 1:])"
   ]
  },
  {
   "cell_type": "code",
   "execution_count": 179,
   "id": "72f4dd7b",
   "metadata": {},
   "outputs": [
    {
     "data": {
      "text/plain": [
       "Survived    0\n",
       "Age         0\n",
       "Fare        0\n",
       "dtype: int64"
      ]
     },
     "execution_count": 179,
     "metadata": {},
     "output_type": "execute_result"
    }
   ],
   "source": [
    "data.isnull().sum()"
   ]
  },
  {
   "cell_type": "markdown",
   "id": "6ef055e0",
   "metadata": {},
   "source": [
    "### Mode()"
   ]
  },
  {
   "cell_type": "code",
   "execution_count": 124,
   "id": "85d0f2f3",
   "metadata": {},
   "outputs": [],
   "source": [
    "data = pd.read_csv(\"E:\\\\Feature engineering\\\\Datasets\\\\titanic.csv\" , usecols = ['Age','Fare','Survived'])"
   ]
  },
  {
   "cell_type": "code",
   "execution_count": 125,
   "id": "5e187a4e",
   "metadata": {},
   "outputs": [],
   "source": [
    "mode_imputer = SimpleImputer(strategy='most_frequent')"
   ]
  },
  {
   "cell_type": "code",
   "execution_count": 126,
   "id": "12e3194e",
   "metadata": {},
   "outputs": [
    {
     "data": {
      "text/plain": [
       "array([[ 0.    , 34.5   ,  7.8292],\n",
       "       [ 1.    , 47.    ,  7.    ],\n",
       "       [ 0.    , 62.    ,  9.6875],\n",
       "       ...,\n",
       "       [ 0.    , 38.5   ,  7.25  ],\n",
       "       [ 0.    , 21.    ,  8.05  ],\n",
       "       [ 0.    , 21.    , 22.3583]])"
      ]
     },
     "execution_count": 126,
     "metadata": {},
     "output_type": "execute_result"
    }
   ],
   "source": [
    "mode_imputer.fit_transform(data)"
   ]
  },
  {
   "cell_type": "code",
   "execution_count": 127,
   "id": "a1e54c8c",
   "metadata": {},
   "outputs": [
    {
     "data": {
      "text/plain": [
       "array([ 0.  , 21.  ,  7.75])"
      ]
     },
     "execution_count": 127,
     "metadata": {},
     "output_type": "execute_result"
    }
   ],
   "source": [
    "mode_imputer.statistics_"
   ]
  },
  {
   "cell_type": "code",
   "execution_count": 128,
   "id": "a7bed26c",
   "metadata": {},
   "outputs": [
    {
     "data": {
      "text/plain": [
       "7.75"
      ]
     },
     "execution_count": 128,
     "metadata": {},
     "output_type": "execute_result"
    }
   ],
   "source": [
    "data['Fare'].mode()[0]"
   ]
  },
  {
   "cell_type": "code",
   "execution_count": 129,
   "id": "80fcfbe0",
   "metadata": {},
   "outputs": [],
   "source": [
    "mode_imputer = SimpleImputer(missing_values=np.nan , strategy='most_frequent')\n"
   ]
  },
  {
   "cell_type": "code",
   "execution_count": 130,
   "id": "fb4f764e",
   "metadata": {},
   "outputs": [],
   "source": [
    "data.iloc[: , 1:] = mode_imputer.fit_transform(data.iloc[: , 1:])"
   ]
  },
  {
   "cell_type": "code",
   "execution_count": 131,
   "id": "2d01160d",
   "metadata": {},
   "outputs": [
    {
     "data": {
      "text/plain": [
       "Survived    0\n",
       "Age         0\n",
       "Fare        0\n",
       "dtype: int64"
      ]
     },
     "execution_count": 131,
     "metadata": {},
     "output_type": "execute_result"
    }
   ],
   "source": [
    "data.isnull().sum()"
   ]
  },
  {
   "cell_type": "markdown",
   "id": "dc0dfb98",
   "metadata": {},
   "source": [
    "### constant (Arbitary value)"
   ]
  },
  {
   "cell_type": "code",
   "execution_count": 132,
   "id": "e15c8567",
   "metadata": {},
   "outputs": [],
   "source": [
    "data = pd.read_csv(\"E:\\\\Feature engineering\\\\Datasets\\\\titanic.csv\" , usecols = ['Age','Fare','Survived'])"
   ]
  },
  {
   "cell_type": "code",
   "execution_count": 133,
   "id": "6dcf3630",
   "metadata": {},
   "outputs": [],
   "source": [
    "constant_imputer = SimpleImputer(strategy='constant',fill_value=100)"
   ]
  },
  {
   "cell_type": "code",
   "execution_count": 134,
   "id": "dfbe3a10",
   "metadata": {},
   "outputs": [
    {
     "data": {
      "text/plain": [
       "array([[  0.    ,  34.5   ,   7.8292],\n",
       "       [  1.    ,  47.    ,   7.    ],\n",
       "       [  0.    ,  62.    ,   9.6875],\n",
       "       ...,\n",
       "       [  0.    ,  38.5   ,   7.25  ],\n",
       "       [  0.    , 100.    ,   8.05  ],\n",
       "       [  0.    , 100.    ,  22.3583]])"
      ]
     },
     "execution_count": 134,
     "metadata": {},
     "output_type": "execute_result"
    }
   ],
   "source": [
    "constant_imputer.fit_transform(data)"
   ]
  },
  {
   "cell_type": "code",
   "execution_count": 135,
   "id": "aa994ac3",
   "metadata": {},
   "outputs": [
    {
     "data": {
      "text/plain": [
       "array([100., 100., 100.])"
      ]
     },
     "execution_count": 135,
     "metadata": {},
     "output_type": "execute_result"
    }
   ],
   "source": [
    "constant_imputer.statistics_"
   ]
  },
  {
   "cell_type": "code",
   "execution_count": 136,
   "id": "dc00ee8a",
   "metadata": {},
   "outputs": [
    {
     "data": {
      "text/plain": [
       "Survived     0\n",
       "Age         86\n",
       "Fare         1\n",
       "dtype: int64"
      ]
     },
     "execution_count": 136,
     "metadata": {},
     "output_type": "execute_result"
    }
   ],
   "source": [
    "data.isnull().sum()"
   ]
  },
  {
   "cell_type": "code",
   "execution_count": 137,
   "id": "0ecb2ff6",
   "metadata": {},
   "outputs": [],
   "source": [
    "constant_imputer = SimpleImputer(missing_values = np.nan , strategy='constant',fill_value=100)\n"
   ]
  },
  {
   "cell_type": "code",
   "execution_count": 138,
   "id": "03002bc1",
   "metadata": {},
   "outputs": [],
   "source": [
    "data.iloc[: , 1:] = constant_imputer.fit_transform(data.iloc[: , 1:])"
   ]
  },
  {
   "cell_type": "code",
   "execution_count": 139,
   "id": "6406b3f8",
   "metadata": {},
   "outputs": [
    {
     "data": {
      "text/plain": [
       "Survived    0\n",
       "Age         0\n",
       "Fare        0\n",
       "dtype: int64"
      ]
     },
     "execution_count": 139,
     "metadata": {},
     "output_type": "execute_result"
    }
   ],
   "source": [
    "data.isnull().sum()"
   ]
  },
  {
   "cell_type": "markdown",
   "id": "4558cb69",
   "metadata": {},
   "source": [
    "### checking "
   ]
  },
  {
   "cell_type": "code",
   "execution_count": 140,
   "id": "e9b64bc2",
   "metadata": {},
   "outputs": [],
   "source": [
    "data = pd.read_csv(\"E:\\\\Feature engineering\\\\Datasets\\\\titanic.csv\" , usecols = ['Age','Fare','Survived'])"
   ]
  },
  {
   "cell_type": "code",
   "execution_count": 141,
   "id": "8a198958",
   "metadata": {},
   "outputs": [
    {
     "data": {
      "text/plain": [
       "Survived     0\n",
       "Age         86\n",
       "Fare         1\n",
       "dtype: int64"
      ]
     },
     "execution_count": 141,
     "metadata": {},
     "output_type": "execute_result"
    }
   ],
   "source": [
    "data.isnull().sum()"
   ]
  },
  {
   "cell_type": "code",
   "execution_count": 142,
   "id": "9e3160c8",
   "metadata": {},
   "outputs": [],
   "source": [
    "mean_imputer = SimpleImputer(strategy='mean')\n",
    "data.iloc[: , 1] = mean_imputer.fit_transform(data.iloc[: , 1].values.reshape(-1,1))"
   ]
  },
  {
   "cell_type": "code",
   "execution_count": 143,
   "id": "e48f1706",
   "metadata": {},
   "outputs": [
    {
     "data": {
      "text/plain": [
       "Survived    0\n",
       "Age         0\n",
       "Fare        1\n",
       "dtype: int64"
      ]
     },
     "execution_count": 143,
     "metadata": {},
     "output_type": "execute_result"
    }
   ],
   "source": [
    "data.isnull().sum()"
   ]
  },
  {
   "cell_type": "markdown",
   "id": "0e107081",
   "metadata": {},
   "source": [
    "### column transform "
   ]
  },
  {
   "cell_type": "code",
   "execution_count": 154,
   "id": "cb519183",
   "metadata": {},
   "outputs": [],
   "source": [
    "data = pd.read_csv(\"E:\\\\Feature engineering\\\\Datasets\\\\titanic.csv\" , usecols = ['Age','Fare','Survived'])"
   ]
  },
  {
   "cell_type": "code",
   "execution_count": 155,
   "id": "5c2a90bc",
   "metadata": {},
   "outputs": [],
   "source": [
    "from sklearn.compose import ColumnTransformer"
   ]
  },
  {
   "cell_type": "code",
   "execution_count": 156,
   "id": "ed0e41be",
   "metadata": {},
   "outputs": [],
   "source": [
    "a = ['Age']\n",
    "b = ['Fare']\n",
    "\n",
    "sol = ColumnTransformer(transformers= [\n",
    "    \n",
    "    ('mean_imputer' , SimpleImputer(strategy='mean'),a) , \n",
    "    ('median_imputer' , SimpleImputer(strategy='median') , b)\n",
    "    \n",
    "] , remainder='passthrough')"
   ]
  },
  {
   "cell_type": "code",
   "execution_count": 157,
   "id": "6f3ccc5e",
   "metadata": {},
   "outputs": [
    {
     "data": {
      "text/plain": [
       "ColumnTransformer(remainder='passthrough',\n",
       "                  transformers=[('mean_imputer', SimpleImputer(), ['Age']),\n",
       "                                ('median_imputer',\n",
       "                                 SimpleImputer(strategy='median'), ['Fare'])])"
      ]
     },
     "execution_count": 157,
     "metadata": {},
     "output_type": "execute_result"
    }
   ],
   "source": [
    "sol.fit(data)"
   ]
  },
  {
   "cell_type": "code",
   "execution_count": 158,
   "id": "3e095b4d",
   "metadata": {},
   "outputs": [
    {
     "data": {
      "text/plain": [
       "[('mean_imputer', SimpleImputer(), ['Age']),\n",
       " ('median_imputer', SimpleImputer(strategy='median'), ['Fare'])]"
      ]
     },
     "execution_count": 158,
     "metadata": {},
     "output_type": "execute_result"
    }
   ],
   "source": [
    "sol.transformers"
   ]
  },
  {
   "cell_type": "code",
   "execution_count": 159,
   "id": "0d9168d2",
   "metadata": {},
   "outputs": [
    {
     "data": {
      "text/plain": [
       "array([30.27259036])"
      ]
     },
     "execution_count": 159,
     "metadata": {},
     "output_type": "execute_result"
    }
   ],
   "source": [
    "sol.named_transformers_['mean_imputer'].statistics_"
   ]
  },
  {
   "cell_type": "code",
   "execution_count": 160,
   "id": "5080425f",
   "metadata": {},
   "outputs": [
    {
     "data": {
      "text/plain": [
       "30.272590361445783"
      ]
     },
     "execution_count": 160,
     "metadata": {},
     "output_type": "execute_result"
    }
   ],
   "source": [
    "data['Age'].mean()"
   ]
  },
  {
   "cell_type": "code",
   "execution_count": 161,
   "id": "fe46c20e",
   "metadata": {},
   "outputs": [
    {
     "data": {
      "text/plain": [
       "Survived     0\n",
       "Age         86\n",
       "Fare         1\n",
       "dtype: int64"
      ]
     },
     "execution_count": 161,
     "metadata": {},
     "output_type": "execute_result"
    }
   ],
   "source": [
    "data.isnull().sum()"
   ]
  },
  {
   "cell_type": "code",
   "execution_count": 164,
   "id": "d0460edd",
   "metadata": {},
   "outputs": [
    {
     "data": {
      "text/plain": [
       "14.4542"
      ]
     },
     "execution_count": 164,
     "metadata": {},
     "output_type": "execute_result"
    }
   ],
   "source": [
    "sol.named_transformers_['median_imputer'].statistics_[0]"
   ]
  },
  {
   "cell_type": "code",
   "execution_count": 163,
   "id": "e56b911c",
   "metadata": {},
   "outputs": [
    {
     "data": {
      "text/plain": [
       "14.4542"
      ]
     },
     "execution_count": 163,
     "metadata": {},
     "output_type": "execute_result"
    }
   ],
   "source": [
    "data['Fare'].median()"
   ]
  },
  {
   "cell_type": "markdown",
   "id": "319a268b",
   "metadata": {},
   "source": [
    "### Feature engine Library "
   ]
  },
  {
   "cell_type": "code",
   "execution_count": 180,
   "id": "33c6e088",
   "metadata": {},
   "outputs": [
    {
     "name": "stdout",
     "output_type": "stream",
     "text": [
      "Collecting feature-engine\n",
      "  Downloading feature_engine-1.1.2-py2.py3-none-any.whl (180 kB)\n",
      "Requirement already satisfied: pandas>=1.0.3 in c:\\users\\korla\\anaconda3\\envs\\tf\\lib\\site-packages (from feature-engine) (1.2.4)\n",
      "Requirement already satisfied: statsmodels>=0.11.1 in c:\\users\\korla\\anaconda3\\envs\\tf\\lib\\site-packages (from feature-engine) (0.12.2)\n",
      "Requirement already satisfied: scipy>=1.4.1 in c:\\users\\korla\\anaconda3\\envs\\tf\\lib\\site-packages (from feature-engine) (1.6.2)\n",
      "Requirement already satisfied: numpy>=1.18.2 in c:\\users\\korla\\anaconda3\\envs\\tf\\lib\\site-packages (from feature-engine) (1.19.5)\n",
      "Requirement already satisfied: scikit-learn>=0.22.2 in c:\\users\\korla\\anaconda3\\envs\\tf\\lib\\site-packages (from feature-engine) (0.24.1)\n",
      "Requirement already satisfied: python-dateutil>=2.7.3 in c:\\users\\korla\\anaconda3\\envs\\tf\\lib\\site-packages (from pandas>=1.0.3->feature-engine) (2.8.1)\n",
      "Requirement already satisfied: pytz>=2017.3 in c:\\users\\korla\\anaconda3\\envs\\tf\\lib\\site-packages (from pandas>=1.0.3->feature-engine) (2021.1)\n",
      "Requirement already satisfied: six>=1.5 in c:\\users\\korla\\anaconda3\\envs\\tf\\lib\\site-packages (from python-dateutil>=2.7.3->pandas>=1.0.3->feature-engine) (1.15.0)\n",
      "Requirement already satisfied: joblib>=0.11 in c:\\users\\korla\\anaconda3\\envs\\tf\\lib\\site-packages (from scikit-learn>=0.22.2->feature-engine) (1.0.1)\n",
      "Requirement already satisfied: threadpoolctl>=2.0.0 in c:\\users\\korla\\anaconda3\\envs\\tf\\lib\\site-packages (from scikit-learn>=0.22.2->feature-engine) (2.1.0)\n",
      "Requirement already satisfied: patsy>=0.5 in c:\\users\\korla\\anaconda3\\envs\\tf\\lib\\site-packages (from statsmodels>=0.11.1->feature-engine) (0.5.1)\n",
      "Installing collected packages: feature-engine\n",
      "Successfully installed feature-engine-1.1.2\n"
     ]
    }
   ],
   "source": [
    "!pip install feature-engine"
   ]
  },
  {
   "cell_type": "code",
   "execution_count": 181,
   "id": "76cd7af3",
   "metadata": {},
   "outputs": [],
   "source": [
    "from feature_engine.imputation import MeanMedianImputer"
   ]
  },
  {
   "cell_type": "code",
   "execution_count": 182,
   "id": "50a517d1",
   "metadata": {},
   "outputs": [],
   "source": [
    "data = pd.read_csv(\"E:\\\\Feature engineering\\\\Datasets\\\\titanic.csv\" , usecols = ['Age','Fare','Survived'])"
   ]
  },
  {
   "cell_type": "code",
   "execution_count": 184,
   "id": "0c89c56a",
   "metadata": {},
   "outputs": [
    {
     "data": {
      "text/html": [
       "<div>\n",
       "<style scoped>\n",
       "    .dataframe tbody tr th:only-of-type {\n",
       "        vertical-align: middle;\n",
       "    }\n",
       "\n",
       "    .dataframe tbody tr th {\n",
       "        vertical-align: top;\n",
       "    }\n",
       "\n",
       "    .dataframe thead th {\n",
       "        text-align: right;\n",
       "    }\n",
       "</style>\n",
       "<table border=\"1\" class=\"dataframe\">\n",
       "  <thead>\n",
       "    <tr style=\"text-align: right;\">\n",
       "      <th></th>\n",
       "      <th>Survived</th>\n",
       "      <th>Age</th>\n",
       "      <th>Fare</th>\n",
       "    </tr>\n",
       "  </thead>\n",
       "  <tbody>\n",
       "    <tr>\n",
       "      <th>0</th>\n",
       "      <td>0</td>\n",
       "      <td>34.5</td>\n",
       "      <td>7.8292</td>\n",
       "    </tr>\n",
       "    <tr>\n",
       "      <th>1</th>\n",
       "      <td>1</td>\n",
       "      <td>47.0</td>\n",
       "      <td>7.0000</td>\n",
       "    </tr>\n",
       "    <tr>\n",
       "      <th>2</th>\n",
       "      <td>0</td>\n",
       "      <td>62.0</td>\n",
       "      <td>9.6875</td>\n",
       "    </tr>\n",
       "    <tr>\n",
       "      <th>3</th>\n",
       "      <td>0</td>\n",
       "      <td>27.0</td>\n",
       "      <td>8.6625</td>\n",
       "    </tr>\n",
       "    <tr>\n",
       "      <th>4</th>\n",
       "      <td>1</td>\n",
       "      <td>22.0</td>\n",
       "      <td>12.2875</td>\n",
       "    </tr>\n",
       "  </tbody>\n",
       "</table>\n",
       "</div>"
      ],
      "text/plain": [
       "   Survived   Age     Fare\n",
       "0         0  34.5   7.8292\n",
       "1         1  47.0   7.0000\n",
       "2         0  62.0   9.6875\n",
       "3         0  27.0   8.6625\n",
       "4         1  22.0  12.2875"
      ]
     },
     "execution_count": 184,
     "metadata": {},
     "output_type": "execute_result"
    }
   ],
   "source": [
    "data.head()"
   ]
  },
  {
   "cell_type": "code",
   "execution_count": 185,
   "id": "f752adf2",
   "metadata": {},
   "outputs": [],
   "source": [
    "a = MeanMedianImputer(imputation_method='mean')"
   ]
  },
  {
   "cell_type": "code",
   "execution_count": 186,
   "id": "cb6e4b67",
   "metadata": {},
   "outputs": [
    {
     "data": {
      "text/plain": [
       "MeanMedianImputer(imputation_method='mean')"
      ]
     },
     "execution_count": 186,
     "metadata": {},
     "output_type": "execute_result"
    }
   ],
   "source": [
    "a.fit(data)"
   ]
  },
  {
   "cell_type": "code",
   "execution_count": 187,
   "id": "16118a91",
   "metadata": {},
   "outputs": [
    {
     "data": {
      "text/plain": [
       "['Survived', 'Age', 'Fare']"
      ]
     },
     "execution_count": 187,
     "metadata": {},
     "output_type": "execute_result"
    }
   ],
   "source": [
    "a.variables_"
   ]
  },
  {
   "cell_type": "code",
   "execution_count": 188,
   "id": "1ed3fdf0",
   "metadata": {},
   "outputs": [
    {
     "data": {
      "text/plain": [
       "{'Survived': 0.36363636363636365,\n",
       " 'Age': 30.272590361445783,\n",
       " 'Fare': 35.6271884892086}"
      ]
     },
     "execution_count": 188,
     "metadata": {},
     "output_type": "execute_result"
    }
   ],
   "source": [
    "a.imputer_dict_"
   ]
  },
  {
   "cell_type": "code",
   "execution_count": 189,
   "id": "a0c02ab3",
   "metadata": {},
   "outputs": [],
   "source": [
    "## feature engine return a data frame while using transform function \n",
    "\n",
    "temp = a.transform(data)"
   ]
  },
  {
   "cell_type": "code",
   "execution_count": 191,
   "id": "907d0d99",
   "metadata": {},
   "outputs": [
    {
     "data": {
      "text/html": [
       "<div>\n",
       "<style scoped>\n",
       "    .dataframe tbody tr th:only-of-type {\n",
       "        vertical-align: middle;\n",
       "    }\n",
       "\n",
       "    .dataframe tbody tr th {\n",
       "        vertical-align: top;\n",
       "    }\n",
       "\n",
       "    .dataframe thead th {\n",
       "        text-align: right;\n",
       "    }\n",
       "</style>\n",
       "<table border=\"1\" class=\"dataframe\">\n",
       "  <thead>\n",
       "    <tr style=\"text-align: right;\">\n",
       "      <th></th>\n",
       "      <th>Survived</th>\n",
       "      <th>Age</th>\n",
       "      <th>Fare</th>\n",
       "    </tr>\n",
       "  </thead>\n",
       "  <tbody>\n",
       "    <tr>\n",
       "      <th>0</th>\n",
       "      <td>0</td>\n",
       "      <td>34.5</td>\n",
       "      <td>7.8292</td>\n",
       "    </tr>\n",
       "    <tr>\n",
       "      <th>1</th>\n",
       "      <td>1</td>\n",
       "      <td>47.0</td>\n",
       "      <td>7.0000</td>\n",
       "    </tr>\n",
       "    <tr>\n",
       "      <th>2</th>\n",
       "      <td>0</td>\n",
       "      <td>62.0</td>\n",
       "      <td>9.6875</td>\n",
       "    </tr>\n",
       "    <tr>\n",
       "      <th>3</th>\n",
       "      <td>0</td>\n",
       "      <td>27.0</td>\n",
       "      <td>8.6625</td>\n",
       "    </tr>\n",
       "    <tr>\n",
       "      <th>4</th>\n",
       "      <td>1</td>\n",
       "      <td>22.0</td>\n",
       "      <td>12.2875</td>\n",
       "    </tr>\n",
       "  </tbody>\n",
       "</table>\n",
       "</div>"
      ],
      "text/plain": [
       "   Survived   Age     Fare\n",
       "0         0  34.5   7.8292\n",
       "1         1  47.0   7.0000\n",
       "2         0  62.0   9.6875\n",
       "3         0  27.0   8.6625\n",
       "4         1  22.0  12.2875"
      ]
     },
     "execution_count": 191,
     "metadata": {},
     "output_type": "execute_result"
    }
   ],
   "source": [
    "temp.head()"
   ]
  },
  {
   "cell_type": "code",
   "execution_count": 192,
   "id": "16c39d1f",
   "metadata": {},
   "outputs": [
    {
     "data": {
      "text/plain": [
       "Survived    0\n",
       "Age         0\n",
       "Fare        0\n",
       "dtype: int64"
      ]
     },
     "execution_count": 192,
     "metadata": {},
     "output_type": "execute_result"
    }
   ],
   "source": [
    "temp[a.variables_].isnull().sum()"
   ]
  },
  {
   "cell_type": "code",
   "execution_count": 193,
   "id": "d28928dd",
   "metadata": {},
   "outputs": [
    {
     "data": {
      "text/plain": [
       "Survived    0\n",
       "Age         0\n",
       "Fare        0\n",
       "dtype: int64"
      ]
     },
     "execution_count": 193,
     "metadata": {},
     "output_type": "execute_result"
    }
   ],
   "source": [
    "temp.isnull().sum()"
   ]
  },
  {
   "cell_type": "code",
   "execution_count": 195,
   "id": "1cc952e5",
   "metadata": {},
   "outputs": [],
   "source": [
    "## use only own variables \n",
    "\n",
    "b = MeanMedianImputer(imputation_method='median',variables=['Fare'])"
   ]
  },
  {
   "cell_type": "code",
   "execution_count": 196,
   "id": "91903c3c",
   "metadata": {},
   "outputs": [
    {
     "data": {
      "text/plain": [
       "MeanMedianImputer(variables=['Fare'])"
      ]
     },
     "execution_count": 196,
     "metadata": {},
     "output_type": "execute_result"
    }
   ],
   "source": [
    "b.fit(data)"
   ]
  },
  {
   "cell_type": "code",
   "execution_count": 197,
   "id": "5ae00709",
   "metadata": {},
   "outputs": [
    {
     "data": {
      "text/plain": [
       "['Fare']"
      ]
     },
     "execution_count": 197,
     "metadata": {},
     "output_type": "execute_result"
    }
   ],
   "source": [
    "b.variables_"
   ]
  },
  {
   "cell_type": "code",
   "execution_count": 198,
   "id": "debe807e",
   "metadata": {},
   "outputs": [
    {
     "data": {
      "text/plain": [
       "{'Fare': 14.4542}"
      ]
     },
     "execution_count": 198,
     "metadata": {},
     "output_type": "execute_result"
    }
   ],
   "source": [
    "b.imputer_dict_"
   ]
  },
  {
   "cell_type": "code",
   "execution_count": 199,
   "id": "abdefb17",
   "metadata": {},
   "outputs": [
    {
     "data": {
      "text/plain": [
       "14.4542"
      ]
     },
     "execution_count": 199,
     "metadata": {},
     "output_type": "execute_result"
    }
   ],
   "source": [
    "data['Fare'].median()"
   ]
  },
  {
   "cell_type": "code",
   "execution_count": 200,
   "id": "c61f2ba4",
   "metadata": {},
   "outputs": [],
   "source": [
    "c = b.transform(data)  # After transforming fill in some other variable "
   ]
  },
  {
   "cell_type": "code",
   "execution_count": 201,
   "id": "622920e8",
   "metadata": {},
   "outputs": [
    {
     "data": {
      "text/html": [
       "<div>\n",
       "<style scoped>\n",
       "    .dataframe tbody tr th:only-of-type {\n",
       "        vertical-align: middle;\n",
       "    }\n",
       "\n",
       "    .dataframe tbody tr th {\n",
       "        vertical-align: top;\n",
       "    }\n",
       "\n",
       "    .dataframe thead th {\n",
       "        text-align: right;\n",
       "    }\n",
       "</style>\n",
       "<table border=\"1\" class=\"dataframe\">\n",
       "  <thead>\n",
       "    <tr style=\"text-align: right;\">\n",
       "      <th></th>\n",
       "      <th>Survived</th>\n",
       "      <th>Age</th>\n",
       "      <th>Fare</th>\n",
       "    </tr>\n",
       "  </thead>\n",
       "  <tbody>\n",
       "    <tr>\n",
       "      <th>0</th>\n",
       "      <td>0</td>\n",
       "      <td>34.5</td>\n",
       "      <td>7.8292</td>\n",
       "    </tr>\n",
       "    <tr>\n",
       "      <th>1</th>\n",
       "      <td>1</td>\n",
       "      <td>47.0</td>\n",
       "      <td>7.0000</td>\n",
       "    </tr>\n",
       "    <tr>\n",
       "      <th>2</th>\n",
       "      <td>0</td>\n",
       "      <td>62.0</td>\n",
       "      <td>9.6875</td>\n",
       "    </tr>\n",
       "    <tr>\n",
       "      <th>3</th>\n",
       "      <td>0</td>\n",
       "      <td>27.0</td>\n",
       "      <td>8.6625</td>\n",
       "    </tr>\n",
       "    <tr>\n",
       "      <th>4</th>\n",
       "      <td>1</td>\n",
       "      <td>22.0</td>\n",
       "      <td>12.2875</td>\n",
       "    </tr>\n",
       "  </tbody>\n",
       "</table>\n",
       "</div>"
      ],
      "text/plain": [
       "   Survived   Age     Fare\n",
       "0         0  34.5   7.8292\n",
       "1         1  47.0   7.0000\n",
       "2         0  62.0   9.6875\n",
       "3         0  27.0   8.6625\n",
       "4         1  22.0  12.2875"
      ]
     },
     "execution_count": 201,
     "metadata": {},
     "output_type": "execute_result"
    }
   ],
   "source": [
    "c.head()"
   ]
  },
  {
   "cell_type": "code",
   "execution_count": 202,
   "id": "77fee7bc",
   "metadata": {},
   "outputs": [
    {
     "data": {
      "text/plain": [
       "Survived     0\n",
       "Age         86\n",
       "Fare         0\n",
       "dtype: int64"
      ]
     },
     "execution_count": 202,
     "metadata": {},
     "output_type": "execute_result"
    }
   ],
   "source": [
    "c.isnull().sum()"
   ]
  },
  {
   "cell_type": "code",
   "execution_count": null,
   "id": "6e28a9d4",
   "metadata": {},
   "outputs": [],
   "source": []
  }
 ],
 "metadata": {
  "kernelspec": {
   "display_name": "Python 3 (ipykernel)",
   "language": "python",
   "name": "python3"
  },
  "language_info": {
   "codemirror_mode": {
    "name": "ipython",
    "version": 3
   },
   "file_extension": ".py",
   "mimetype": "text/x-python",
   "name": "python",
   "nbconvert_exporter": "python",
   "pygments_lexer": "ipython3",
   "version": "3.8.12"
  }
 },
 "nbformat": 4,
 "nbformat_minor": 5
}
