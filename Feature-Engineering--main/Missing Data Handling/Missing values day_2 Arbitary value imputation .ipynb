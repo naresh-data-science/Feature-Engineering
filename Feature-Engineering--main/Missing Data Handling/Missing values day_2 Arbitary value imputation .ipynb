{
 "cells": [
  {
   "cell_type": "code",
   "execution_count": 1,
   "id": "89645632",
   "metadata": {},
   "outputs": [],
   "source": [
    "# Arbitary value imputation means adding either the large value or a small value "
   ]
  },
  {
   "cell_type": "code",
   "execution_count": 2,
   "id": "8a3376fe",
   "metadata": {},
   "outputs": [],
   "source": [
    "# or combination of -1 or 99 "
   ]
  },
  {
   "cell_type": "code",
   "execution_count": 4,
   "id": "2d88bb53",
   "metadata": {},
   "outputs": [],
   "source": [
    "import numpy as np\n",
    "import pandas as pd \n",
    "import matplotlib.pyplot as plt \n",
    "import seaborn as sns "
   ]
  },
  {
   "cell_type": "code",
   "execution_count": 5,
   "id": "a364d006",
   "metadata": {},
   "outputs": [],
   "source": [
    "df =  pd.read_csv(\"E:\\\\Feature engineering\\\\Datasets\\\\titanic.csv\" , usecols = ['Age','Fare','Survived'])"
   ]
  },
  {
   "cell_type": "code",
   "execution_count": 6,
   "id": "a9c57d66",
   "metadata": {},
   "outputs": [
    {
     "data": {
      "text/html": [
       "<div>\n",
       "<style scoped>\n",
       "    .dataframe tbody tr th:only-of-type {\n",
       "        vertical-align: middle;\n",
       "    }\n",
       "\n",
       "    .dataframe tbody tr th {\n",
       "        vertical-align: top;\n",
       "    }\n",
       "\n",
       "    .dataframe thead th {\n",
       "        text-align: right;\n",
       "    }\n",
       "</style>\n",
       "<table border=\"1\" class=\"dataframe\">\n",
       "  <thead>\n",
       "    <tr style=\"text-align: right;\">\n",
       "      <th></th>\n",
       "      <th>Survived</th>\n",
       "      <th>Age</th>\n",
       "      <th>Fare</th>\n",
       "    </tr>\n",
       "  </thead>\n",
       "  <tbody>\n",
       "    <tr>\n",
       "      <th>0</th>\n",
       "      <td>0</td>\n",
       "      <td>34.5</td>\n",
       "      <td>7.8292</td>\n",
       "    </tr>\n",
       "    <tr>\n",
       "      <th>1</th>\n",
       "      <td>1</td>\n",
       "      <td>47.0</td>\n",
       "      <td>7.0000</td>\n",
       "    </tr>\n",
       "    <tr>\n",
       "      <th>2</th>\n",
       "      <td>0</td>\n",
       "      <td>62.0</td>\n",
       "      <td>9.6875</td>\n",
       "    </tr>\n",
       "    <tr>\n",
       "      <th>3</th>\n",
       "      <td>0</td>\n",
       "      <td>27.0</td>\n",
       "      <td>8.6625</td>\n",
       "    </tr>\n",
       "    <tr>\n",
       "      <th>4</th>\n",
       "      <td>1</td>\n",
       "      <td>22.0</td>\n",
       "      <td>12.2875</td>\n",
       "    </tr>\n",
       "  </tbody>\n",
       "</table>\n",
       "</div>"
      ],
      "text/plain": [
       "   Survived   Age     Fare\n",
       "0         0  34.5   7.8292\n",
       "1         1  47.0   7.0000\n",
       "2         0  62.0   9.6875\n",
       "3         0  27.0   8.6625\n",
       "4         1  22.0  12.2875"
      ]
     },
     "execution_count": 6,
     "metadata": {},
     "output_type": "execute_result"
    }
   ],
   "source": [
    "df.head()"
   ]
  },
  {
   "cell_type": "code",
   "execution_count": 7,
   "id": "2e4859e7",
   "metadata": {},
   "outputs": [
    {
     "data": {
      "text/plain": [
       "Survived     0\n",
       "Age         86\n",
       "Fare         1\n",
       "dtype: int64"
      ]
     },
     "execution_count": 7,
     "metadata": {},
     "output_type": "execute_result"
    }
   ],
   "source": [
    "df.isnull().sum()"
   ]
  },
  {
   "cell_type": "code",
   "execution_count": 8,
   "id": "3d6148b4",
   "metadata": {},
   "outputs": [],
   "source": [
    "df['Age_1'] = df['Age'].fillna(-1)"
   ]
  },
  {
   "cell_type": "code",
   "execution_count": 9,
   "id": "c0cee5c9",
   "metadata": {},
   "outputs": [],
   "source": [
    "df['Age_999'] = df['Age'].fillna(999)"
   ]
  },
  {
   "cell_type": "code",
   "execution_count": 10,
   "id": "6bff4f09",
   "metadata": {},
   "outputs": [
    {
     "data": {
      "text/plain": [
       "<AxesSubplot:>"
      ]
     },
     "execution_count": 10,
     "metadata": {},
     "output_type": "execute_result"
    },
    {
     "data": {
      "image/png": "[encoded data removed]",
      "text/plain": [
       "<Figure size 432x288 with 1 Axes>"
      ]
     },
     "metadata": {
      "needs_background": "light"
     },
     "output_type": "display_data"
    }
   ],
   "source": [
    "df['Age'].hist(bins = 50)"
   ]
  },
  {
   "cell_type": "code",
   "execution_count": 11,
   "id": "805a0d38",
   "metadata": {},
   "outputs": [
    {
     "data": {
      "text/plain": [
       "76.0"
      ]
     },
     "execution_count": 11,
     "metadata": {},
     "output_type": "execute_result"
    }
   ],
   "source": [
    "df['Age'].max()"
   ]
  },
  {
   "cell_type": "code",
   "execution_count": 12,
   "id": "324cf515",
   "metadata": {},
   "outputs": [
    {
     "data": {
      "text/plain": [
       "0.17"
      ]
     },
     "execution_count": 12,
     "metadata": {},
     "output_type": "execute_result"
    }
   ],
   "source": [
    "df['Age'].min()"
   ]
  },
  {
   "cell_type": "code",
   "execution_count": 13,
   "id": "0642650e",
   "metadata": {},
   "outputs": [],
   "source": [
    "df['Age_max'] = df['Age'].fillna(76.0)"
   ]
  },
  {
   "cell_type": "code",
   "execution_count": 14,
   "id": "952e06a3",
   "metadata": {},
   "outputs": [],
   "source": [
    "df['Age_min'] = df['Age'].fillna(0.17)"
   ]
  },
  {
   "cell_type": "code",
   "execution_count": 15,
   "id": "30424d67",
   "metadata": {},
   "outputs": [
    {
     "data": {
      "text/html": [
       "<div>\n",
       "<style scoped>\n",
       "    .dataframe tbody tr th:only-of-type {\n",
       "        vertical-align: middle;\n",
       "    }\n",
       "\n",
       "    .dataframe tbody tr th {\n",
       "        vertical-align: top;\n",
       "    }\n",
       "\n",
       "    .dataframe thead th {\n",
       "        text-align: right;\n",
       "    }\n",
       "</style>\n",
       "<table border=\"1\" class=\"dataframe\">\n",
       "  <thead>\n",
       "    <tr style=\"text-align: right;\">\n",
       "      <th></th>\n",
       "      <th>Survived</th>\n",
       "      <th>Age</th>\n",
       "      <th>Fare</th>\n",
       "      <th>Age_1</th>\n",
       "      <th>Age_999</th>\n",
       "      <th>Age_max</th>\n",
       "      <th>Age_min</th>\n",
       "    </tr>\n",
       "  </thead>\n",
       "  <tbody>\n",
       "    <tr>\n",
       "      <th>0</th>\n",
       "      <td>0</td>\n",
       "      <td>34.5</td>\n",
       "      <td>7.8292</td>\n",
       "      <td>34.5</td>\n",
       "      <td>34.5</td>\n",
       "      <td>34.5</td>\n",
       "      <td>34.5</td>\n",
       "    </tr>\n",
       "    <tr>\n",
       "      <th>1</th>\n",
       "      <td>1</td>\n",
       "      <td>47.0</td>\n",
       "      <td>7.0000</td>\n",
       "      <td>47.0</td>\n",
       "      <td>47.0</td>\n",
       "      <td>47.0</td>\n",
       "      <td>47.0</td>\n",
       "    </tr>\n",
       "    <tr>\n",
       "      <th>2</th>\n",
       "      <td>0</td>\n",
       "      <td>62.0</td>\n",
       "      <td>9.6875</td>\n",
       "      <td>62.0</td>\n",
       "      <td>62.0</td>\n",
       "      <td>62.0</td>\n",
       "      <td>62.0</td>\n",
       "    </tr>\n",
       "    <tr>\n",
       "      <th>3</th>\n",
       "      <td>0</td>\n",
       "      <td>27.0</td>\n",
       "      <td>8.6625</td>\n",
       "      <td>27.0</td>\n",
       "      <td>27.0</td>\n",
       "      <td>27.0</td>\n",
       "      <td>27.0</td>\n",
       "    </tr>\n",
       "    <tr>\n",
       "      <th>4</th>\n",
       "      <td>1</td>\n",
       "      <td>22.0</td>\n",
       "      <td>12.2875</td>\n",
       "      <td>22.0</td>\n",
       "      <td>22.0</td>\n",
       "      <td>22.0</td>\n",
       "      <td>22.0</td>\n",
       "    </tr>\n",
       "  </tbody>\n",
       "</table>\n",
       "</div>"
      ],
      "text/plain": [
       "   Survived   Age     Fare  Age_1  Age_999  Age_max  Age_min\n",
       "0         0  34.5   7.8292   34.5     34.5     34.5     34.5\n",
       "1         1  47.0   7.0000   47.0     47.0     47.0     47.0\n",
       "2         0  62.0   9.6875   62.0     62.0     62.0     62.0\n",
       "3         0  27.0   8.6625   27.0     27.0     27.0     27.0\n",
       "4         1  22.0  12.2875   22.0     22.0     22.0     22.0"
      ]
     },
     "execution_count": 15,
     "metadata": {},
     "output_type": "execute_result"
    }
   ],
   "source": [
    "df.head()"
   ]
  },
  {
   "cell_type": "code",
   "execution_count": 25,
   "id": "317c0325",
   "metadata": {},
   "outputs": [
    {
     "data": {
      "text/plain": [
       "<matplotlib.legend.Legend at 0x2df7f1fce80>"
      ]
     },
     "execution_count": 25,
     "metadata": {},
     "output_type": "execute_result"
    },
    {
     "data": {
      "image/png": "[encoded data removed]",
      "text/plain": [
       "<Figure size 432x288 with 1 Axes>"
      ]
     },
     "metadata": {
      "needs_background": "light"
     },
     "output_type": "display_data"
    }
   ],
   "source": [
    "fig = plt.figure()\n",
    "ax = fig.add_subplot(1,1,1)\n",
    "\n",
    "df['Age'].hist(bins = 50 , density = True , color = 'red' ,  label = 'Age')\n",
    "df['Age_1'].hist(bins = 50 , density = True , color = 'green' , label = 'Age -1')\n",
    "\n",
    "df['Age_999'].hist(bins = 50 , density = True , color = 'blue' , ax = ax , label = 'Age 999')\n",
    "#df['Age_max'].hist(bins = 50 , density = True , color = 'yellow' , ax = ax , label = 'Age max')\n",
    "#df['Age_min'].hist(bins = 50 , density = True , color = 'black' , ax = ax , label = 'Age min')\n",
    "\n",
    "plt.legend(loc = 0)"
   ]
  },
  {
   "cell_type": "code",
   "execution_count": 35,
   "id": "2ca53770",
   "metadata": {},
   "outputs": [
    {
     "data": {
      "text/plain": [
       "Index(['Survived', 'Age', 'Fare', 'Age_1', 'Age_999', 'Age_max', 'Age_min'], dtype='object')"
      ]
     },
     "execution_count": 35,
     "metadata": {},
     "output_type": "execute_result"
    }
   ],
   "source": [
    "df.columns"
   ]
  },
  {
   "cell_type": "code",
   "execution_count": 44,
   "id": "a7625bab",
   "metadata": {},
   "outputs": [
    {
     "data": {
      "image/png": "[encoded data removed]",
      "text/plain": [
       "<Figure size 432x288 with 1 Axes>"
      ]
     },
     "metadata": {
      "needs_background": "light"
     },
     "output_type": "display_data"
    }
   ],
   "source": [
    "fig = plt.figure()\n",
    "ax = fig.add_subplot(1,1,1)\n",
    "\n",
    "df['Age'].plot(kind = 'kde', color = 'red' , ax = ax, label = 'Age')\n",
    "df['Age_1'].plot(kind = 'kde', color = 'green' , ax = ax , label = 'Age -1')\n",
    "df['Age_999'].plot(kind = 'kde' , color = 'blue' , ax = ax , label = 'Age 999')\n",
    "df['Age_max'].plot(kind = 'kde' , color = 'yellow' , ax = ax , label = 'Age max')\n",
    "df['Age_min'].plot(kind = 'kde' ,color = 'black' , ax = ax , label = 'Age min')\n",
    "\n",
    "\n",
    "lines, labels = ax.get_legend_handles_labels()\n",
    "ax.legend(lines, labels, loc='best')\n",
    "\n",
    "plt.show()"
   ]
  },
  {
   "cell_type": "markdown",
   "id": "83288cb5",
   "metadata": {},
   "source": [
    "### using sklearn "
   ]
  },
  {
   "cell_type": "code",
   "execution_count": 47,
   "id": "a2353a38",
   "metadata": {},
   "outputs": [],
   "source": [
    "df =  pd.read_csv(\"E:\\\\Feature engineering\\\\Datasets\\\\titanic.csv\" , usecols = ['Age','Fare','Survived'])"
   ]
  },
  {
   "cell_type": "code",
   "execution_count": 45,
   "id": "166f76a0",
   "metadata": {},
   "outputs": [],
   "source": [
    "from sklearn.impute import SimpleImputer"
   ]
  },
  {
   "cell_type": "code",
   "execution_count": 46,
   "id": "aac5bdf2",
   "metadata": {},
   "outputs": [],
   "source": [
    "ar = SimpleImputer(strategy='constant',fill_value=99)"
   ]
  },
  {
   "cell_type": "code",
   "execution_count": 49,
   "id": "7cc0d673",
   "metadata": {},
   "outputs": [
    {
     "data": {
      "text/plain": [
       "SimpleImputer(fill_value=99, strategy='constant')"
      ]
     },
     "execution_count": 49,
     "metadata": {},
     "output_type": "execute_result"
    }
   ],
   "source": [
    "ar.fit(df)"
   ]
  },
  {
   "cell_type": "code",
   "execution_count": 50,
   "id": "2c4d6277",
   "metadata": {},
   "outputs": [
    {
     "data": {
      "text/plain": [
       "array([99., 99., 99.])"
      ]
     },
     "execution_count": 50,
     "metadata": {},
     "output_type": "execute_result"
    }
   ],
   "source": [
    "ar.statistics_"
   ]
  },
  {
   "cell_type": "code",
   "execution_count": 53,
   "id": "1fb44014",
   "metadata": {},
   "outputs": [],
   "source": [
    "df.iloc[: , 1] = ar.fit_transform(df.iloc[: , 1].values.reshape(-1,1))"
   ]
  },
  {
   "cell_type": "code",
   "execution_count": 54,
   "id": "9984f07c",
   "metadata": {},
   "outputs": [
    {
     "data": {
      "text/plain": [
       "Survived    0\n",
       "Age         0\n",
       "Fare        1\n",
       "dtype: int64"
      ]
     },
     "execution_count": 54,
     "metadata": {},
     "output_type": "execute_result"
    }
   ],
   "source": [
    "df.isnull().sum()"
   ]
  },
  {
   "cell_type": "markdown",
   "id": "61215141",
   "metadata": {},
   "source": [
    "### using feature engine "
   ]
  },
  {
   "cell_type": "code",
   "execution_count": 73,
   "id": "67b4f580",
   "metadata": {},
   "outputs": [],
   "source": [
    "df =  pd.read_csv(\"E:\\\\Feature engineering\\\\Datasets\\\\titanic.csv\" , usecols = ['Age','Fare','Survived'])"
   ]
  },
  {
   "cell_type": "code",
   "execution_count": 74,
   "id": "5f5eabc3",
   "metadata": {},
   "outputs": [],
   "source": [
    "from feature_engine.imputation import ArbitraryNumberImputer"
   ]
  },
  {
   "cell_type": "code",
   "execution_count": 75,
   "id": "8941e198",
   "metadata": {},
   "outputs": [],
   "source": [
    "fr = ArbitraryNumberImputer(arbitrary_number=99 , variables=['Age'])"
   ]
  },
  {
   "cell_type": "code",
   "execution_count": null,
   "id": "656cb7b5",
   "metadata": {},
   "outputs": [],
   "source": [
    "fr = ArbitraryNumberImputer(arbitrary_number=99 ,imputer_dict={'Age':99 , \"Fare\":-1})"
   ]
  },
  {
   "cell_type": "code",
   "execution_count": 76,
   "id": "4ded03a5",
   "metadata": {},
   "outputs": [
    {
     "data": {
      "text/plain": [
       "ArbitraryNumberImputer(arbitrary_number=99, variables=['Age'])"
      ]
     },
     "execution_count": 76,
     "metadata": {},
     "output_type": "execute_result"
    }
   ],
   "source": [
    "fr.fit(df)"
   ]
  },
  {
   "cell_type": "code",
   "execution_count": 77,
   "id": "8f31c4be",
   "metadata": {},
   "outputs": [
    {
     "data": {
      "text/plain": [
       "['Age']"
      ]
     },
     "execution_count": 77,
     "metadata": {},
     "output_type": "execute_result"
    }
   ],
   "source": [
    "fr.variables_"
   ]
  },
  {
   "cell_type": "code",
   "execution_count": 78,
   "id": "c8dfd11a",
   "metadata": {},
   "outputs": [
    {
     "data": {
      "text/plain": [
       "{'Age': 99}"
      ]
     },
     "execution_count": 78,
     "metadata": {},
     "output_type": "execute_result"
    }
   ],
   "source": [
    "fr.imputer_dict_"
   ]
  },
  {
   "cell_type": "code",
   "execution_count": 79,
   "id": "285fc2da",
   "metadata": {},
   "outputs": [
    {
     "data": {
      "text/plain": [
       "Survived     0\n",
       "Age         86\n",
       "Fare         1\n",
       "dtype: int64"
      ]
     },
     "execution_count": 79,
     "metadata": {},
     "output_type": "execute_result"
    }
   ],
   "source": [
    "df.isnull().sum()"
   ]
  },
  {
   "cell_type": "code",
   "execution_count": 80,
   "id": "9eb226bb",
   "metadata": {},
   "outputs": [],
   "source": [
    "data = fr.transform(df)"
   ]
  },
  {
   "cell_type": "code",
   "execution_count": 81,
   "id": "be831971",
   "metadata": {},
   "outputs": [
    {
     "data": {
      "text/plain": [
       "Survived    0\n",
       "Age         0\n",
       "Fare        1\n",
       "dtype: int64"
      ]
     },
     "execution_count": 81,
     "metadata": {},
     "output_type": "execute_result"
    }
   ],
   "source": [
    "data.isnull().sum()"
   ]
  },
  {
   "cell_type": "code",
   "execution_count": null,
   "id": "a0842565",
   "metadata": {},
   "outputs": [],
   "source": []
  }
 ],
 "metadata": {
  "kernelspec": {
   "display_name": "Python 3 (ipykernel)",
   "language": "python",
   "name": "python3"
  },
  "language_info": {
   "codemirror_mode": {
    "name": "ipython",
    "version": 3
   },
   "file_extension": ".py",
   "mimetype": "text/x-python",
   "name": "python",
   "nbconvert_exporter": "python",
   "pygments_lexer": "ipython3",
   "version": "3.8.12"
  }
 },
 "nbformat": 4,
 "nbformat_minor": 5
}
